{
 "cells": [
  {
   "cell_type": "code",
   "execution_count": 221,
   "id": "fd668c1d",
   "metadata": {},
   "outputs": [],
   "source": [
    "from geopy.geocoders import Nominatim\n",
    "import json\n",
    "import requests as rq\n",
    "from bs4 import BeautifulSoup\n",
    "\n",
    "geolocator = Nominatim(user_agent=\"geoapiExercises\")\n",
    "cloud_t = [\"--\", \"sun-bw\", \"sunc-bw\", \"suncl-bw\", \"dull-bw\"]\n",
    "phen_t = [\"--\", \"rain-bw\", \"snow-bw\", \"storm-bw\"]\n",
    "wind_d = [\"--\", \"С\", \"З\", \"Ю\", \"В\", \"СЗ\", \"СВ\", \"ЮЗ\", \"ЮВ\"]\n",
    "lat = \"136.80700409\"\n",
    "lon = \"49.93432764\"\n",
    "year = 2015\n",
    "month = 10\n",
    "day = 5"
   ]
  },
  {
   "cell_type": "code",
   "execution_count": 222,
   "id": "2578e67f",
   "metadata": {},
   "outputs": [],
   "source": [
    "f = open('parsed_districts.json', \"r\")\n",
    "county_codes = json.load(f)"
   ]
  },
  {
   "cell_type": "code",
   "execution_count": 223,
   "id": "abdea18a",
   "metadata": {},
   "outputs": [
    {
     "name": "stdout",
     "output_type": "stream",
     "text": [
      "    Амурск\n",
      "11448\n",
      "found\n"
     ]
    }
   ],
   "source": [
    "location = geolocator.reverse(lon+\",\"+lat)\n",
    "county = location.raw[\"address\"][\"county\"].replace(\" район\", \"\").replace(\"ое\", \"\").replace(\"ий\", \"\")\n",
    "print(\"    \"+county)\n",
    "county_code = -1\n",
    "try:\n",
    "    county_code = county_codes[location.raw[\"address\"][\"state\"]][county]\n",
    "    print(county_code)\n",
    "    print(\"found\")\n",
    "except:\n",
    "    print(\"Code not found!\")\n",
    "    print(county_codes[location.raw[\"address\"][\"state\"]])"
   ]
  },
  {
   "cell_type": "code",
   "execution_count": 224,
   "id": "1d90ce53",
   "metadata": {},
   "outputs": [],
   "source": [
    "headers_={\n",
    "        'accept': 'application/xml, text/xml, */*',\n",
    "        'accept-encoding': 'gzip, deflate, br',\n",
    "        'accept-language': 'ru-RU,ru;q=0.9,en-US;q=0.8,en;q=0.7',\n",
    "        'content-type': 'application/x-www-form-urlencoded',\n",
    "        'referer': 'https://www.gismeteo.ru/diary/206418/2015/10/',\n",
    "        'sec-ch-ua': '\"Chromium\";v=\"92\", \" Not A;Brand\";v=\"99\", \"Google Chrome\";v=\"92\"',\n",
    "        'sec-ch-ua-mobile': '?0',\n",
    "        'sec-fetch-dest': 'empty',\n",
    "        'sec-fetch-mode': 'cors',\n",
    "        'sec-fetch-site': 'same-origin',\n",
    "        'user-agent': 'Mozilla/5.0 (Macintosh; Intel Mac OS X 10_15_7) AppleWebKit/537.36 (KHTML, like Gecko) Chrome/92.0.4515.159 Safari/537.36',\n",
    "        'x-requested-with': 'XMLHttpRequest'}\n",
    "\n",
    "response = rq.get(\n",
    "    \"https://www.gismeteo.ru/diary/\"+str(county_code)+\"/\"+str(year)+\"/\"+str(month)+\"/\",\n",
    "    headers=headers_)"
   ]
  },
  {
   "cell_type": "code",
   "execution_count": 225,
   "id": "c452cc10",
   "metadata": {},
   "outputs": [],
   "source": [
    "soup = BeautifulSoup(response.text, 'html.parser')"
   ]
  },
  {
   "cell_type": "code",
   "execution_count": 226,
   "id": "37cf3c9d",
   "metadata": {},
   "outputs": [],
   "source": [
    "rows = soup.find(\"tbody\").find_all(\"tr\")\n",
    "result = {}\n",
    "for row in rows:\n",
    "    if row.find(\"td\").text == str(day):\n",
    "        colls = row.find_all(\"td\")\n",
    "        result[\"temp\"] = colls[1].text\n",
    "        result[\"press\"] = colls[2].text\n",
    "        result[\"cloud\"] = 0\n",
    "        for i in cloud_t:\n",
    "            if colls[3].prettify().find(i) != -1:\n",
    "                result[\"cloud\"] = cloud_t.index(i)\n",
    "        result[\"phen\"] = 0\n",
    "        for i in phen_t:\n",
    "            if colls[4].prettify().find(i) != -1:\n",
    "                result[\"phen\"] = phen_t.index(i)\n",
    "        result[\"wind_d\"] = 0\n",
    "        for i in wind_d:\n",
    "            if colls[5].prettify().find(i) != -1:\n",
    "                result[\"wind_d\"] = wind_d.index(i)\n",
    "        result[\"wind\"] = ''.join(x for x in colls[5].text if x.isdigit())\n",
    "        break"
   ]
  },
  {
   "cell_type": "code",
   "execution_count": 227,
   "id": "a165f6df",
   "metadata": {},
   "outputs": [
    {
     "data": {
      "text/plain": [
       "{'temp': '+10',\n",
       " 'press': '760',\n",
       " 'cloud': 4,\n",
       " 'phen': 0,\n",
       " 'wind_d': 3,\n",
       " 'wind': '5'}"
      ]
     },
     "execution_count": 227,
     "metadata": {},
     "output_type": "execute_result"
    }
   ],
   "source": [
    "result"
   ]
  },
  {
   "cell_type": "code",
   "execution_count": null,
   "id": "2516692b",
   "metadata": {},
   "outputs": [],
   "source": []
  }
 ],
 "metadata": {
  "kernelspec": {
   "display_name": "Python 3 (ipykernel)",
   "language": "python",
   "name": "python3"
  },
  "language_info": {
   "codemirror_mode": {
    "name": "ipython",
    "version": 3
   },
   "file_extension": ".py",
   "mimetype": "text/x-python",
   "name": "python",
   "nbconvert_exporter": "python",
   "pygments_lexer": "ipython3",
   "version": "3.9.5"
  }
 },
 "nbformat": 4,
 "nbformat_minor": 5
}
