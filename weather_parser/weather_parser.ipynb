{
 "cells": [
  {
   "cell_type": "code",
   "execution_count": 175,
   "id": "729fa239",
   "metadata": {},
   "outputs": [],
   "source": [
    "from geopy.geocoders import Nominatim\n",
    "import json\n",
    "import requests as rq\n",
    "from bs4 import BeautifulSoup\n",
    "\n",
    "geolocator = Nominatim(user_agent=\"geoapiExercises\")\n",
    "cloud_t = [\"--\", \"sun-bw\", \"sunc-bw\", \"suncl-bw\", \"dull-bw\"]\n",
    "phen_t = [\"--\", \"rain-bw\", \"snow-bw\", \"storm-bw\"]\n",
    "lat = \"136.80700409\"\n",
    "lon = \"49.93432764\"\n",
    "year = 2015\n",
    "month = 10\n",
    "day = 3"
   ]
  },
  {
   "cell_type": "code",
   "execution_count": 176,
   "id": "da022513",
   "metadata": {},
   "outputs": [],
   "source": [
    "f = open('parsed_districts.json', \"r\")\n",
    "county_codes = json.load(f)"
   ]
  },
  {
   "cell_type": "code",
   "execution_count": 177,
   "id": "064a4f7f",
   "metadata": {},
   "outputs": [
    {
     "name": "stdout",
     "output_type": "stream",
     "text": [
      "    Амурск\n",
      "11448\n",
      "found\n"
     ]
    }
   ],
   "source": [
    "location = geolocator.reverse(lon+\",\"+lat)\n",
    "county = location.raw[\"address\"][\"county\"].replace(\" район\", \"\").replace(\"ое\", \"\").replace(\"ий\", \"\")\n",
    "print(\"    \"+county)\n",
    "county_code = -1\n",
    "try:\n",
    "    county_code = county_codes[location.raw[\"address\"][\"state\"]][county]\n",
    "    print(county_code)\n",
    "    print(\"found\")\n",
    "except:\n",
    "    print(\"Code not found!\")\n",
    "    print(county_codes[location.raw[\"address\"][\"state\"]])"
   ]
  },
  {
   "cell_type": "code",
   "execution_count": 178,
   "id": "62ca4c7c",
   "metadata": {},
   "outputs": [],
   "source": [
    "headers_={\n",
    "        'accept': 'application/xml, text/xml, */*',\n",
    "        'accept-encoding': 'gzip, deflate, br',\n",
    "        'accept-language': 'ru-RU,ru;q=0.9,en-US;q=0.8,en;q=0.7',\n",
    "        'content-type': 'application/x-www-form-urlencoded',\n",
    "        'referer': 'https://www.gismeteo.ru/diary/206418/2015/10/',\n",
    "        'sec-ch-ua': '\"Chromium\";v=\"92\", \" Not A;Brand\";v=\"99\", \"Google Chrome\";v=\"92\"',\n",
    "        'sec-ch-ua-mobile': '?0',\n",
    "        'sec-fetch-dest': 'empty',\n",
    "        'sec-fetch-mode': 'cors',\n",
    "        'sec-fetch-site': 'same-origin',\n",
    "        'user-agent': 'Mozilla/5.0 (Macintosh; Intel Mac OS X 10_15_7) AppleWebKit/537.36 (KHTML, like Gecko) Chrome/92.0.4515.159 Safari/537.36',\n",
    "        'x-requested-with': 'XMLHttpRequest'}\n",
    "\n",
    "response = rq.get(\n",
    "    \"https://www.gismeteo.ru/diary/\"+str(county_code)+\"/\"+str(year)+\"/\"+str(month)+\"/\",\n",
    "    headers=headers_)"
   ]
  },
  {
   "cell_type": "code",
   "execution_count": 179,
   "id": "4950bd81",
   "metadata": {},
   "outputs": [],
   "source": [
    "soup = BeautifulSoup(response.text, 'html.parser')"
   ]
  },
  {
   "cell_type": "code",
   "execution_count": 200,
   "id": "db0f2091",
   "metadata": {},
   "outputs": [
    {
     "name": "stdout",
     "output_type": "stream",
     "text": [
      "None\n",
      "None\n",
      "None\n",
      "None\n",
      "None\n"
     ]
    },
    {
     "ename": "AttributeError",
     "evalue": "'str' object has no attribute 'text'",
     "output_type": "error",
     "traceback": [
      "\u001b[0;31m---------------------------------------------------------------------------\u001b[0m",
      "\u001b[0;31mAttributeError\u001b[0m                            Traceback (most recent call last)",
      "\u001b[0;32m/var/folders/cg/t3yqf9zd60s0lvl644jgh7l80000gn/T/ipykernel_65683/2235528030.py\u001b[0m in \u001b[0;36m<module>\u001b[0;34m\u001b[0m\n\u001b[1;32m     13\u001b[0m         \u001b[0mresult\u001b[0m\u001b[0;34m[\u001b[0m\u001b[0;34m\"phen\"\u001b[0m\u001b[0;34m]\u001b[0m \u001b[0;34m=\u001b[0m \u001b[0;36m0\u001b[0m\u001b[0;34m\u001b[0m\u001b[0;34m\u001b[0m\u001b[0m\n\u001b[1;32m     14\u001b[0m         \u001b[0;32mfor\u001b[0m \u001b[0mi\u001b[0m \u001b[0;32min\u001b[0m \u001b[0mphen_t\u001b[0m\u001b[0;34m:\u001b[0m\u001b[0;34m\u001b[0m\u001b[0;34m\u001b[0m\u001b[0m\n\u001b[0;32m---> 15\u001b[0;31m             \u001b[0;32mif\u001b[0m \u001b[0mcolls\u001b[0m\u001b[0;34m[\u001b[0m\u001b[0;36m4\u001b[0m\u001b[0;34m]\u001b[0m\u001b[0;34m.\u001b[0m\u001b[0mprettify\u001b[0m\u001b[0;34m(\u001b[0m\u001b[0;34m)\u001b[0m\u001b[0;34m.\u001b[0m\u001b[0mtext\u001b[0m\u001b[0;34m.\u001b[0m\u001b[0mfind\u001b[0m\u001b[0;34m(\u001b[0m\u001b[0mi\u001b[0m\u001b[0;34m)\u001b[0m \u001b[0;34m!=\u001b[0m \u001b[0;34m-\u001b[0m\u001b[0;36m1\u001b[0m\u001b[0;34m:\u001b[0m\u001b[0;34m\u001b[0m\u001b[0;34m\u001b[0m\u001b[0m\n\u001b[0m\u001b[1;32m     16\u001b[0m                 \u001b[0mresult\u001b[0m\u001b[0;34m[\u001b[0m\u001b[0;34m\"phen\"\u001b[0m\u001b[0;34m]\u001b[0m \u001b[0;34m=\u001b[0m \u001b[0mphen_t\u001b[0m\u001b[0;34m.\u001b[0m\u001b[0mindex\u001b[0m\u001b[0;34m(\u001b[0m\u001b[0mi\u001b[0m\u001b[0;34m)\u001b[0m\u001b[0;34m\u001b[0m\u001b[0;34m\u001b[0m\u001b[0m\n\u001b[1;32m     17\u001b[0m         \u001b[0mresult\u001b[0m\u001b[0;34m[\u001b[0m\u001b[0;34m\"wind\"\u001b[0m\u001b[0;34m]\u001b[0m \u001b[0;34m=\u001b[0m \u001b[0;34m''\u001b[0m\u001b[0;34m.\u001b[0m\u001b[0mjoin\u001b[0m\u001b[0;34m(\u001b[0m\u001b[0mx\u001b[0m \u001b[0;32mfor\u001b[0m \u001b[0mx\u001b[0m \u001b[0;32min\u001b[0m \u001b[0mcolls\u001b[0m\u001b[0;34m[\u001b[0m\u001b[0;36m5\u001b[0m\u001b[0;34m]\u001b[0m\u001b[0;34m.\u001b[0m\u001b[0mtext\u001b[0m \u001b[0;32mif\u001b[0m \u001b[0mx\u001b[0m\u001b[0;34m.\u001b[0m\u001b[0misdigit\u001b[0m\u001b[0;34m(\u001b[0m\u001b[0;34m)\u001b[0m\u001b[0;34m)\u001b[0m\u001b[0;34m\u001b[0m\u001b[0;34m\u001b[0m\u001b[0m\n",
      "\u001b[0;31mAttributeError\u001b[0m: 'str' object has no attribute 'text'"
     ]
    }
   ],
   "source": [
    "rows = soup.find(\"tbody\").find_all(\"tr\")\n",
    "result = {}\n",
    "for row in rows:\n",
    "    if row.find(\"td\").text == str(day):\n",
    "        colls = row.find_all(\"td\")\n",
    "        result[\"temp\"] = colls[1].text\n",
    "        result[\"press\"] = colls[2].text\n",
    "        result[\"cloud\"] = 0\n",
    "        for i in cloud_t:\n",
    "            print(colls[3].find(i))\n",
    "            if colls[3].prettify().find(i) != -1:\n",
    "                result[\"cloud\"] = cloud_t.index(i)\n",
    "        result[\"phen\"] = 0\n",
    "        for i in phen_t:\n",
    "            if colls[4].prettify().text.find(i) != -1:\n",
    "                result[\"phen\"] = phen_t.index(i)\n",
    "        result[\"wind\"] = ''.join(x for x in colls[5].text if x.isdigit())\n",
    "        break"
   ]
  },
  {
   "cell_type": "code",
   "execution_count": 193,
   "id": "d0d83b5e",
   "metadata": {},
   "outputs": [
    {
     "data": {
      "text/plain": [
       "{'temp': '+7', 'press': '747', 'cloud': 0, 'phen': 0, 'wind': '7'}"
      ]
     },
     "execution_count": 193,
     "metadata": {},
     "output_type": "execute_result"
    }
   ],
   "source": [
    "result"
   ]
  },
  {
   "cell_type": "code",
   "execution_count": null,
   "id": "baec17a7",
   "metadata": {},
   "outputs": [],
   "source": []
  }
 ],
 "metadata": {
  "kernelspec": {
   "display_name": "Python 3 (ipykernel)",
   "language": "python",
   "name": "python3"
  },
  "language_info": {
   "codemirror_mode": {
    "name": "ipython",
    "version": 3
   },
   "file_extension": ".py",
   "mimetype": "text/x-python",
   "name": "python",
   "nbconvert_exporter": "python",
   "pygments_lexer": "ipython3",
   "version": "3.9.5"
  }
 },
 "nbformat": 4,
 "nbformat_minor": 5
}
