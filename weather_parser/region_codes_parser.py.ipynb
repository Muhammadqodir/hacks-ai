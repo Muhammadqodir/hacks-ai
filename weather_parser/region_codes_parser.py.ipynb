{
 "cells": [
  {
   "cell_type": "code",
   "execution_count": 49,
   "id": "8a72e3ea",
   "metadata": {},
   "outputs": [],
   "source": [
    "import requests as rq\n",
    "from bs4 import BeautifulSoup\n",
    "import numpy as np"
   ]
  },
  {
   "cell_type": "code",
   "execution_count": 50,
   "id": "5c41bf36",
   "metadata": {},
   "outputs": [],
   "source": [
    "headers_={\n",
    "        'accept': 'application/xml, text/xml, */*',\n",
    "        'accept-encoding': 'gzip, deflate, br',\n",
    "        'accept-language': 'ru-RU,ru;q=0.9,en-US;q=0.8,en;q=0.7',\n",
    "        'content-type': 'application/x-www-form-urlencoded',\n",
    "        'referer': 'https://www.gismeteo.ru/diary/206418/2015/10/',\n",
    "        'sec-ch-ua': '\"Chromium\";v=\"92\", \" Not A;Brand\";v=\"99\", \"Google Chrome\";v=\"92\"',\n",
    "        'sec-ch-ua-mobile': '?0',\n",
    "        'sec-fetch-dest': 'empty',\n",
    "        'sec-fetch-mode': 'cors',\n",
    "        'sec-fetch-site': 'same-origin',\n",
    "        'user-agent': 'Mozilla/5.0 (Macintosh; Intel Mac OS X 10_15_7) AppleWebKit/537.36 (KHTML, like Gecko) Chrome/92.0.4515.159 Safari/537.36',\n",
    "        'x-requested-with': 'XMLHttpRequest'}\n",
    "\n",
    "response = rq.get(\n",
    "    \"https://www.gismeteo.ru/inform-service/63466572668a39754a9ddf4c8b3437b0/districts/?country=156&fr=sel\",\n",
    "    headers=headers_)"
   ]
  },
  {
   "cell_type": "code",
   "execution_count": 51,
   "id": "cb66edc7",
   "metadata": {},
   "outputs": [],
   "source": [
    "soup = BeautifulSoup(response.text, 'html.parser')"
   ]
  },
  {
   "cell_type": "code",
   "execution_count": 52,
   "id": "ba975d59",
   "metadata": {
    "scrolled": true
   },
   "outputs": [
    {
     "name": "stdout",
     "output_type": "stream",
     "text": [
      "Алтайский край  314\n",
      "Амурская область  310\n",
      "Архангельская область  242\n",
      "Астраханская область  280\n",
      "Белгородская область  257\n",
      "Брянская область  252\n",
      "Владимирская область  263\n",
      "Волгоградская область  278\n",
      "Вологодская область  244\n",
      "Воронежская область  258\n",
      "Еврейская автономная область  348\n",
      "Забайкальский край  305\n",
      "Ивановская область  265\n",
      "Иркутская область  303\n",
      "Кабардино-Балкарская республика  283\n",
      "Калининградская область  313\n",
      "Калужская область  259\n",
      "Камчатский край  312\n",
      "Карачаево-Черкесская республика  287\n",
      "Кемеровская область  299\n",
      "Кировская область  267\n",
      "Костромская область  264\n",
      "Краснодарский край  282\n",
      "Красноярский край  301\n",
      "Курганская область  293\n",
      "Курская область  256\n",
      "Ленинградская область  246\n",
      "Липецкая область  254\n",
      "Магаданская область  306\n",
      "Москва (город федерального значения)  4146\n",
      "Московская область  251\n",
      "Мурманская область  241\n",
      "Ненецкий автономный округ  1906\n",
      "Нижегородская область  266\n",
      "Новгородская область  248\n",
      "Новосибирская область  297\n",
      "Омская область  296\n",
      "Оренбургская область  277\n",
      "Орловская область  253\n",
      "Пензенская область  274\n",
      "Пермский край  290\n",
      "Приморский край  308\n",
      "Псковская область  247\n",
      "Республика Адыгея  286\n",
      "Республика Алтай  300\n",
      "Республика Башкортостан  294\n",
      "Республика Бурятия  304\n",
      "Республика Дагестан  289\n",
      "Республика Ингушетия  315\n",
      "Республика Калмыкия  281\n",
      "Республика Карелия  245\n",
      "Республика Коми  243\n",
      "Республика Крым  316\n",
      "Республика Марий Эл  268\n",
      "Республика Мордовия  270\n",
      "Республика Саха (Якутия)  307\n",
      "Республика Северная Осетия - Алания  285\n",
      "Республика Татарстан  272\n",
      "Республика Тыва  302\n",
      "Республика Хакасия  347\n",
      "Ростовская область  279\n",
      "Рязанская область  262\n",
      "Самарская область  275\n",
      "Санкт-Петербург (город федерального значения)  4147\n",
      "Саратовская область  276\n",
      "Сахалинская область  311\n",
      "Свердловская область  291\n",
      "Севастополь (город федерального значения)  4591\n",
      "Смоленская область  250\n",
      "Ставропольский край  284\n",
      "Тамбовская область  255\n",
      "Тверская область  249\n",
      "Томская область  298\n",
      "Тульская область  260\n",
      "Тюменская область  295\n",
      "Удмуртская республика  271\n",
      "Ульяновская область  273\n",
      "Хабаровский край  309\n",
      "Ханты-Мансийский автономный округ - Югра  1907\n",
      "Челябинская область  292\n",
      "Чеченская республика  288\n",
      "Чувашская республика  269\n",
      "Чукотский автономный округ  430\n",
      "Ямало-Ненецкий автономный округ  1908\n",
      "Ярославская область  261\n"
     ]
    }
   ],
   "source": [
    "data = {}\n",
    "for item in soup.find_all('item'):\n",
    "    districts = {}\n",
    "    print(item.get('n')+\"  \"+ item.get('id'))\n",
    "    d_response = rq.get(\n",
    "    \"https://www.gismeteo.ru/inform-service/63466572668a39754a9ddf4c8b3437b0/cities/?district=\"+item.get('id')+\"&fr=sel\",\n",
    "    headers=headers_)\n",
    "    d_soup = BeautifulSoup(d_response.text, 'html.parser')\n",
    "    for district in d_soup.find_all('item'):\n",
    "        districts[district.get('n')] = district.get('id')\n",
    "    data[item.get('n')] = districts"
   ]
  },
  {
   "cell_type": "code",
   "execution_count": 59,
   "id": "41dbb603",
   "metadata": {},
   "outputs": [
    {
     "ename": "TypeError",
     "evalue": "dump() missing 1 required positional argument: 'fp'",
     "output_type": "error",
     "traceback": [
      "\u001b[0;31m---------------------------------------------------------------------------\u001b[0m",
      "\u001b[0;31mTypeError\u001b[0m                                 Traceback (most recent call last)",
      "\u001b[0;32m/var/folders/cg/t3yqf9zd60s0lvl644jgh7l80000gn/T/ipykernel_65192/51628229.py\u001b[0m in \u001b[0;36m<module>\u001b[0;34m\u001b[0m\n\u001b[1;32m      2\u001b[0m \u001b[0;32mimport\u001b[0m \u001b[0mcodecs\u001b[0m\u001b[0;34m\u001b[0m\u001b[0;34m\u001b[0m\u001b[0m\n\u001b[1;32m      3\u001b[0m \u001b[0mfile\u001b[0m \u001b[0;34m=\u001b[0m \u001b[0mcodecs\u001b[0m\u001b[0;34m.\u001b[0m\u001b[0mopen\u001b[0m\u001b[0;34m(\u001b[0m\u001b[0;34m\"parsed_districts.json\"\u001b[0m\u001b[0;34m,\u001b[0m \u001b[0;34m\"w\"\u001b[0m\u001b[0;34m,\u001b[0m \u001b[0;34m\"utf-8\"\u001b[0m\u001b[0;34m)\u001b[0m\u001b[0;34m\u001b[0m\u001b[0;34m\u001b[0m\u001b[0m\n\u001b[0;32m----> 4\u001b[0;31m \u001b[0mfile\u001b[0m\u001b[0;34m.\u001b[0m\u001b[0mwrite\u001b[0m\u001b[0;34m(\u001b[0m\u001b[0mjson\u001b[0m\u001b[0;34m.\u001b[0m\u001b[0mdump\u001b[0m\u001b[0;34m(\u001b[0m\u001b[0mdata\u001b[0m\u001b[0;34m)\u001b[0m\u001b[0;34m)\u001b[0m\u001b[0;34m\u001b[0m\u001b[0;34m\u001b[0m\u001b[0m\n\u001b[0m\u001b[1;32m      5\u001b[0m \u001b[0mfile\u001b[0m\u001b[0;34m.\u001b[0m\u001b[0mclose\u001b[0m\u001b[0;34m(\u001b[0m\u001b[0;34m)\u001b[0m\u001b[0;34m\u001b[0m\u001b[0;34m\u001b[0m\u001b[0m\n",
      "\u001b[0;31mTypeError\u001b[0m: dump() missing 1 required positional argument: 'fp'"
     ]
    }
   ],
   "source": [
    "import json\n",
    "import codecs\n",
    "file = codecs.open(\"parsed_districts.json\", \"w\", \"utf-8\")\n",
    "file.write(json.dump(data))\n",
    "file.close()"
   ]
  },
  {
   "cell_type": "code",
   "execution_count": null,
   "id": "4041d47a",
   "metadata": {},
   "outputs": [],
   "source": []
  }
 ],
 "metadata": {
  "kernelspec": {
   "display_name": "Python 3 (ipykernel)",
   "language": "python",
   "name": "python3"
  },
  "language_info": {
   "codemirror_mode": {
    "name": "ipython",
    "version": 3
   },
   "file_extension": ".py",
   "mimetype": "text/x-python",
   "name": "python",
   "nbconvert_exporter": "python",
   "pygments_lexer": "ipython3",
   "version": "3.9.5"
  }
 },
 "nbformat": 4,
 "nbformat_minor": 5
}
