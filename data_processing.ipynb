{
 "cells": [
  {
   "cell_type": "code",
   "execution_count": 106,
   "id": "03eb385a",
   "metadata": {},
   "outputs": [],
   "source": [
    "import weather_parser.parser as wp\n",
    "import pandas as pd"
   ]
  },
  {
   "cell_type": "code",
   "execution_count": 107,
   "id": "6beaabea",
   "metadata": {},
   "outputs": [
    {
     "name": "stderr",
     "output_type": "stream",
     "text": [
      "/Library/Frameworks/Python.framework/Versions/3.9/lib/python3.9/site-packages/IPython/core/interactiveshell.py:3441: FutureWarning: In a future version of pandas all arguments of read_csv except for the argument 'filepath_or_buffer' will be keyword-only\n",
      "  exec(code_obj, self.user_global_ns, self.user_ns)\n"
     ]
    },
    {
     "data": {
      "text/plain": [
       "(22848, 9)"
      ]
     },
     "execution_count": 107,
     "metadata": {},
     "output_type": "execute_result"
    }
   ],
   "source": [
    "data = pd.read_csv(\"private_fires.csv\", \";\")\n",
    "data.shape"
   ]
  },
  {
   "cell_type": "code",
   "execution_count": 108,
   "id": "7335ec6b",
   "metadata": {},
   "outputs": [],
   "source": [
    "data_size = 15\n",
    "coordinates = data[[\"ACTIVE_FIR\"]].head(data_size)\n",
    "dates = data[[\"DT\"]].head(data_size)"
   ]
  },
  {
   "cell_type": "code",
   "execution_count": 109,
   "id": "38396aa7",
   "metadata": {},
   "outputs": [],
   "source": [
    "c_arr = []\n",
    "d_arr = []\n",
    "for c in coordinates[\"ACTIVE_FIR\"]:\n",
    "    c = c.replace(\"POLYGON((\", \"\").replace(\"))\", \"\")\n",
    "    c = c[:c.find(\",\")]\n",
    "    cs = c.split(\" \")\n",
    "    cs_int = [float(cs[0]), float(cs[1])]\n",
    "    c_arr.append(cs_int)\n",
    "\n",
    "for d in dates[\"DT\"]:\n",
    "    ds = d.split(\"-\")\n",
    "    d_arr.append(ds)"
   ]
  },
  {
   "cell_type": "code",
   "execution_count": 111,
   "id": "3e45f738",
   "metadata": {},
   "outputs": [
    {
     "name": "stdout",
     "output_type": "stream",
     "text": [
      "['37.95670402', '45.32997253']\n",
      "['37.94090926', '45.33294417']\n",
      "['37.94459641', '45.34271787']\n",
      "['37.96039783', '45.33975289']\n",
      "['37.95670402', '45.32997253']\n",
      "[[45.32997253, 37.95670402], [45.33294417, 37.94090926], [45.34271787, 37.94459641], [45.33975289, 37.96039783], [45.32997253, 37.95670402]]\n",
      "\n",
      "\n",
      "\n",
      "\n",
      "['37.94552562', '45.33585118']\n",
      "['37.93244979', '45.33758401']\n",
      "['37.93480066', '45.34661723']\n",
      "['37.94787744', '45.34488155']\n",
      "['37.94552562', '45.33585118']\n",
      "[[45.33585118, 37.94552562], [45.33758401, 37.93244979], [45.34661723, 37.93480066], [45.34488155, 37.94787744], [45.33585118, 37.94552562]]\n",
      "\n",
      "\n",
      "\n",
      "\n",
      "['41.67458479', '47.61205064']\n",
      "['41.67115177', '47.62119808']\n",
      "['41.68541299', '47.6236042']\n",
      "['41.68883459', '47.61446057']\n",
      "['41.67458479', '47.61205064']\n",
      "[[47.61205064, 41.67458479], [47.62119808, 41.67115177], [47.6236042, 41.68541299], [47.61446057, 41.68883459], [47.61205064, 41.67458479]]\n",
      "\n",
      "\n",
      "\n",
      "\n",
      "['41.68347095', '47.60844944']\n",
      "['41.67481832', '47.61503457']\n",
      "['41.67224665', '47.62407065']\n",
      "['41.68592903', '47.6258111']\n",
      "['41.69454646', '47.61924506']\n",
      "['41.6971581', '47.61021279']\n",
      "['41.68347095', '47.60844944']\n",
      "[[47.60844944, 41.68347095], [47.61503457, 41.67481832], [47.62407065, 41.67224665], [47.6258111, 41.68592903], [47.61924506, 41.69454646], [47.61021279, 41.6971581], [47.60844944, 41.68347095]]\n",
      "\n",
      "\n",
      "\n",
      "\n",
      "['41.6673391', '47.61736519']\n",
      "['41.66425823', '47.62624042']\n",
      "['41.67756961', '47.62831371']\n",
      "['41.68064191', '47.61943943']\n",
      "['41.6673391', '47.61736519']\n",
      "[[47.61736519, 41.6673391], [47.62624042, 41.66425823], [47.62831371, 41.67756961], [47.61943943, 41.68064191], [47.61736519, 41.6673391]]\n",
      "\n",
      "\n",
      "\n",
      "\n",
      "['106.48835425', '54.0814066']\n",
      "['106.45070076', '54.08583069']\n",
      "['106.44283924', '54.09756924']\n",
      "['106.46371869', '54.11288901']\n",
      "['106.5017496', '54.11193924']\n",
      "['106.51785871', '54.08864012']\n",
      "['106.48835425', '54.0814066']\n",
      "[[54.0814066, 106.48835425], [54.08583069, 106.45070076], [54.09756924, 106.44283924], [54.11288901, 106.46371869], [54.11193924, 106.5017496], [54.08864012, 106.51785871], [54.0814066, 106.48835425]]\n",
      "\n",
      "\n",
      "\n",
      "\n",
      "['106.48833858', '54.07856484']\n",
      "['106.41932176', '54.09172829']\n",
      "['106.41811873', '54.10894004']\n",
      "['106.45478432', '54.12027245']\n",
      "['106.46973983', '54.12242966']\n",
      "['106.48469916', '54.12458591']\n",
      "['106.49965658', '54.12674026']\n",
      "['106.51461209', '54.12889079']\n",
      "['106.53327942', '54.12226868']\n",
      "['106.552873']\n"
     ]
    },
    {
     "ename": "IndexError",
     "evalue": "list index out of range",
     "output_type": "error",
     "traceback": [
      "\u001b[0;31m---------------------------------------------------------------------------\u001b[0m",
      "\u001b[0;31mIndexError\u001b[0m                                Traceback (most recent call last)",
      "\u001b[0;32m/var/folders/cg/t3yqf9zd60s0lvl644jgh7l80000gn/T/ipykernel_66458/3921183602.py\u001b[0m in \u001b[0;36m<module>\u001b[0;34m\u001b[0m\n\u001b[1;32m      7\u001b[0m         \u001b[0mll_arr\u001b[0m \u001b[0;34m=\u001b[0m \u001b[0mll\u001b[0m\u001b[0;34m.\u001b[0m\u001b[0msplit\u001b[0m\u001b[0;34m(\u001b[0m\u001b[0;34m\" \"\u001b[0m\u001b[0;34m)\u001b[0m\u001b[0;34m\u001b[0m\u001b[0;34m\u001b[0m\u001b[0m\n\u001b[1;32m      8\u001b[0m         \u001b[0mprint\u001b[0m\u001b[0;34m(\u001b[0m\u001b[0mll_arr\u001b[0m\u001b[0;34m)\u001b[0m\u001b[0;34m\u001b[0m\u001b[0;34m\u001b[0m\u001b[0m\n\u001b[0;32m----> 9\u001b[0;31m         \u001b[0mcs_int\u001b[0m \u001b[0;34m=\u001b[0m \u001b[0;34m[\u001b[0m\u001b[0mfloat\u001b[0m\u001b[0;34m(\u001b[0m\u001b[0mll_arr\u001b[0m\u001b[0;34m[\u001b[0m\u001b[0;36m1\u001b[0m\u001b[0;34m]\u001b[0m\u001b[0;34m)\u001b[0m\u001b[0;34m,\u001b[0m \u001b[0mfloat\u001b[0m\u001b[0;34m(\u001b[0m\u001b[0mll_arr\u001b[0m\u001b[0;34m[\u001b[0m\u001b[0;36m0\u001b[0m\u001b[0;34m]\u001b[0m\u001b[0;34m)\u001b[0m\u001b[0;34m]\u001b[0m\u001b[0;34m\u001b[0m\u001b[0;34m\u001b[0m\u001b[0m\n\u001b[0m\u001b[1;32m     10\u001b[0m         \u001b[0mcs_arr\u001b[0m\u001b[0;34m.\u001b[0m\u001b[0mappend\u001b[0m\u001b[0;34m(\u001b[0m\u001b[0mcs_int\u001b[0m\u001b[0;34m)\u001b[0m\u001b[0;34m\u001b[0m\u001b[0;34m\u001b[0m\u001b[0m\n\u001b[1;32m     11\u001b[0m     \u001b[0mprint\u001b[0m\u001b[0;34m(\u001b[0m\u001b[0mcs_arr\u001b[0m\u001b[0;34m)\u001b[0m\u001b[0;34m\u001b[0m\u001b[0;34m\u001b[0m\u001b[0m\n",
      "\u001b[0;31mIndexError\u001b[0m: list index out of range"
     ]
    }
   ],
   "source": [
    "polygons = []\n",
    "for c in coordinates[\"ACTIVE_FIR\"]:\n",
    "    c = c.replace(\"POLYGON((\", \"\").replace(\"))\", \"\")\n",
    "    cs = c.split(\",\")\n",
    "    cs_arr = []\n",
    "    for ll in cs:\n",
    "        ll_arr = ll.split(\" \")\n",
    "        print(ll_arr)\n",
    "        cs_int = [float(ll_arr[1]), float(ll_arr[0])]\n",
    "        cs_arr.append(cs_int)\n",
    "    print(cs_arr)\n",
    "    print(\"\\n\\n\\n\")\n",
    "    polygons.append(cs_arr)\n",
    "    "
   ]
  },
  {
   "cell_type": "code",
   "execution_count": null,
   "id": "42e13ad7",
   "metadata": {},
   "outputs": [],
   "source": []
  },
  {
   "cell_type": "code",
   "execution_count": null,
   "id": "1b16e7d0",
   "metadata": {},
   "outputs": [],
   "source": []
  }
 ],
 "metadata": {
  "kernelspec": {
   "display_name": "Python 3 (ipykernel)",
   "language": "python",
   "name": "python3"
  },
  "language_info": {
   "codemirror_mode": {
    "name": "ipython",
    "version": 3
   },
   "file_extension": ".py",
   "mimetype": "text/x-python",
   "name": "python",
   "nbconvert_exporter": "python",
   "pygments_lexer": "ipython3",
   "version": "3.9.5"
  }
 },
 "nbformat": 4,
 "nbformat_minor": 5
}
