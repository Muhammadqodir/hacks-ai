{
 "cells": [
  {
   "cell_type": "code",
   "execution_count": 2,
   "id": "dfce576b",
   "metadata": {},
   "outputs": [],
   "source": [
    "import pandas as pd\n",
    "import requests"
   ]
  },
  {
   "cell_type": "code",
   "execution_count": 3,
   "id": "a4c0a8bb",
   "metadata": {},
   "outputs": [
    {
     "name": "stderr",
     "output_type": "stream",
     "text": [
      "/Library/Frameworks/Python.framework/Versions/3.9/lib/python3.9/site-packages/IPython/core/interactiveshell.py:3441: FutureWarning: In a future version of pandas all arguments of read_csv except for the argument 'filepath_or_buffer' will be keyword-only\n",
      "  exec(code_obj, self.user_global_ns, self.user_ns)\n"
     ]
    }
   ],
   "source": [
    "data = pd.read_csv(\"private_fires.csv\", \";\")"
   ]
  },
  {
   "cell_type": "code",
   "execution_count": 4,
   "id": "d8397131",
   "metadata": {},
   "outputs": [
    {
     "data": {
      "text/plain": [
       "(22848, 9)"
      ]
     },
     "execution_count": 4,
     "metadata": {},
     "output_type": "execute_result"
    }
   ],
   "source": [
    "data.shape"
   ]
  },
  {
   "cell_type": "code",
   "execution_count": 5,
   "id": "73cd0a3e",
   "metadata": {},
   "outputs": [
    {
     "data": {
      "text/html": [
       "<div>\n",
       "<style scoped>\n",
       "    .dataframe tbody tr th:only-of-type {\n",
       "        vertical-align: middle;\n",
       "    }\n",
       "\n",
       "    .dataframe tbody tr th {\n",
       "        vertical-align: top;\n",
       "    }\n",
       "\n",
       "    .dataframe thead th {\n",
       "        text-align: right;\n",
       "    }\n",
       "</style>\n",
       "<table border=\"1\" class=\"dataframe\">\n",
       "  <thead>\n",
       "    <tr style=\"text-align: right;\">\n",
       "      <th></th>\n",
       "      <th>YEAR</th>\n",
       "      <th>FIREID</th>\n",
       "      <th>DT</th>\n",
       "      <th>ACTIVE_FIR</th>\n",
       "      <th>THERMOPOIN</th>\n",
       "      <th>IGNITION_D</th>\n",
       "      <th>DURATION</th>\n",
       "      <th>BURNED_ARE</th>\n",
       "      <th>MAX_ACTIVE</th>\n",
       "    </tr>\n",
       "  </thead>\n",
       "  <tbody>\n",
       "    <tr>\n",
       "      <th>0</th>\n",
       "      <td>2017</td>\n",
       "      <td>45285</td>\n",
       "      <td>2017-09-21</td>\n",
       "      <td>POLYGON((37.95670402 45.32997253,37.94090926 4...</td>\n",
       "      <td>1</td>\n",
       "      <td>2017-09-21</td>\n",
       "      <td>4</td>\n",
       "      <td>263.415930</td>\n",
       "      <td>143.767591</td>\n",
       "    </tr>\n",
       "    <tr>\n",
       "      <th>1</th>\n",
       "      <td>2017</td>\n",
       "      <td>45285</td>\n",
       "      <td>2017-09-25</td>\n",
       "      <td>POLYGON((37.94552562 45.33585118,37.93244979 4...</td>\n",
       "      <td>1</td>\n",
       "      <td>2017-09-21</td>\n",
       "      <td>4</td>\n",
       "      <td>263.415930</td>\n",
       "      <td>143.767591</td>\n",
       "    </tr>\n",
       "    <tr>\n",
       "      <th>2</th>\n",
       "      <td>2020</td>\n",
       "      <td>37875</td>\n",
       "      <td>2020-08-06</td>\n",
       "      <td>POLYGON((41.67458479 47.61205064,41.67115177 4...</td>\n",
       "      <td>1</td>\n",
       "      <td>2020-08-06</td>\n",
       "      <td>7</td>\n",
       "      <td>357.862905</td>\n",
       "      <td>203.659388</td>\n",
       "    </tr>\n",
       "    <tr>\n",
       "      <th>3</th>\n",
       "      <td>2020</td>\n",
       "      <td>37875</td>\n",
       "      <td>2020-08-11</td>\n",
       "      <td>POLYGON((41.68347095 47.60844944,41.67481832 4...</td>\n",
       "      <td>1</td>\n",
       "      <td>2020-08-06</td>\n",
       "      <td>7</td>\n",
       "      <td>357.862905</td>\n",
       "      <td>203.659388</td>\n",
       "    </tr>\n",
       "    <tr>\n",
       "      <th>4</th>\n",
       "      <td>2020</td>\n",
       "      <td>37875</td>\n",
       "      <td>2020-08-13</td>\n",
       "      <td>POLYGON((41.6673391 47.61736519,41.66425823 47...</td>\n",
       "      <td>1</td>\n",
       "      <td>2020-08-06</td>\n",
       "      <td>7</td>\n",
       "      <td>357.862905</td>\n",
       "      <td>203.659388</td>\n",
       "    </tr>\n",
       "  </tbody>\n",
       "</table>\n",
       "</div>"
      ],
      "text/plain": [
       "   YEAR  FIREID          DT  \\\n",
       "0  2017   45285  2017-09-21   \n",
       "1  2017   45285  2017-09-25   \n",
       "2  2020   37875  2020-08-06   \n",
       "3  2020   37875  2020-08-11   \n",
       "4  2020   37875  2020-08-13   \n",
       "\n",
       "                                          ACTIVE_FIR  THERMOPOIN  IGNITION_D  \\\n",
       "0  POLYGON((37.95670402 45.32997253,37.94090926 4...           1  2017-09-21   \n",
       "1  POLYGON((37.94552562 45.33585118,37.93244979 4...           1  2017-09-21   \n",
       "2  POLYGON((41.67458479 47.61205064,41.67115177 4...           1  2020-08-06   \n",
       "3  POLYGON((41.68347095 47.60844944,41.67481832 4...           1  2020-08-06   \n",
       "4  POLYGON((41.6673391 47.61736519,41.66425823 47...           1  2020-08-06   \n",
       "\n",
       "   DURATION  BURNED_ARE  MAX_ACTIVE  \n",
       "0         4  263.415930  143.767591  \n",
       "1         4  263.415930  143.767591  \n",
       "2         7  357.862905  203.659388  \n",
       "3         7  357.862905  203.659388  \n",
       "4         7  357.862905  203.659388  "
      ]
     },
     "execution_count": 5,
     "metadata": {},
     "output_type": "execute_result"
    }
   ],
   "source": [
    "data.head(5)"
   ]
  },
  {
   "cell_type": "code",
   "execution_count": 6,
   "id": "ee827c5b",
   "metadata": {},
   "outputs": [
    {
     "data": {
      "text/plain": [
       "2012    3432\n",
       "2020    2414\n",
       "2014    2264\n",
       "2019    2223\n",
       "2016    2126\n",
       "2011    2031\n",
       "2015    2011\n",
       "2017    1836\n",
       "2018    1414\n",
       "2013    1389\n",
       "2009     966\n",
       "2010     742\n",
       "Name: YEAR, dtype: int64"
      ]
     },
     "execution_count": 6,
     "metadata": {},
     "output_type": "execute_result"
    }
   ],
   "source": [
    "data[\"YEAR\"].value_counts()"
   ]
  },
  {
   "cell_type": "code",
   "execution_count": 39,
   "id": "b22fc9d3",
   "metadata": {},
   "outputs": [
    {
     "data": {
      "text/plain": [
       "6921     126\n",
       "35975     64\n",
       "337       62\n",
       "30429     62\n",
       "32822     58\n",
       "        ... \n",
       "40333      2\n",
       "4556       2\n",
       "15167      2\n",
       "6644       2\n",
       "45285      2\n",
       "Name: FIREID, Length: 3728, dtype: int64"
      ]
     },
     "execution_count": 39,
     "metadata": {},
     "output_type": "execute_result"
    }
   ],
   "source": [
    "data[\"FIREID\"].value_counts()"
   ]
  },
  {
   "cell_type": "code",
   "execution_count": 40,
   "id": "711c3b4e",
   "metadata": {},
   "outputs": [
    {
     "data": {
      "text/html": [
       "<div>\n",
       "<style scoped>\n",
       "    .dataframe tbody tr th:only-of-type {\n",
       "        vertical-align: middle;\n",
       "    }\n",
       "\n",
       "    .dataframe tbody tr th {\n",
       "        vertical-align: top;\n",
       "    }\n",
       "\n",
       "    .dataframe thead th {\n",
       "        text-align: right;\n",
       "    }\n",
       "</style>\n",
       "<table border=\"1\" class=\"dataframe\">\n",
       "  <thead>\n",
       "    <tr style=\"text-align: right;\">\n",
       "      <th></th>\n",
       "      <th>YEAR</th>\n",
       "      <th>FIREID</th>\n",
       "      <th>DT</th>\n",
       "      <th>ACTIVE_FIR</th>\n",
       "      <th>THERMOPOIN</th>\n",
       "      <th>IGNITION_D</th>\n",
       "      <th>DURATION</th>\n",
       "      <th>BURNED_ARE</th>\n",
       "      <th>MAX_ACTIVE</th>\n",
       "    </tr>\n",
       "  </thead>\n",
       "  <tbody>\n",
       "    <tr>\n",
       "      <th>0</th>\n",
       "      <td>2017</td>\n",
       "      <td>45285</td>\n",
       "      <td>2017-09-21</td>\n",
       "      <td>POLYGON((37.95670402 45.32997253,37.94090926 4...</td>\n",
       "      <td>1</td>\n",
       "      <td>2017-09-21</td>\n",
       "      <td>4</td>\n",
       "      <td>263.41593</td>\n",
       "      <td>143.767591</td>\n",
       "    </tr>\n",
       "    <tr>\n",
       "      <th>1</th>\n",
       "      <td>2017</td>\n",
       "      <td>45285</td>\n",
       "      <td>2017-09-25</td>\n",
       "      <td>POLYGON((37.94552562 45.33585118,37.93244979 4...</td>\n",
       "      <td>1</td>\n",
       "      <td>2017-09-21</td>\n",
       "      <td>4</td>\n",
       "      <td>263.41593</td>\n",
       "      <td>143.767591</td>\n",
       "    </tr>\n",
       "  </tbody>\n",
       "</table>\n",
       "</div>"
      ],
      "text/plain": [
       "   YEAR  FIREID          DT  \\\n",
       "0  2017   45285  2017-09-21   \n",
       "1  2017   45285  2017-09-25   \n",
       "\n",
       "                                          ACTIVE_FIR  THERMOPOIN  IGNITION_D  \\\n",
       "0  POLYGON((37.95670402 45.32997253,37.94090926 4...           1  2017-09-21   \n",
       "1  POLYGON((37.94552562 45.33585118,37.93244979 4...           1  2017-09-21   \n",
       "\n",
       "   DURATION  BURNED_ARE  MAX_ACTIVE  \n",
       "0         4   263.41593  143.767591  \n",
       "1         4   263.41593  143.767591  "
      ]
     },
     "execution_count": 40,
     "metadata": {},
     "output_type": "execute_result"
    }
   ],
   "source": [
    "data[data['FIREID'] == 45285]"
   ]
  },
  {
   "cell_type": "code",
   "execution_count": null,
   "id": "0aa53a6e",
   "metadata": {},
   "outputs": [],
   "source": []
  },
  {
   "cell_type": "code",
   "execution_count": null,
   "id": "da96c7ac",
   "metadata": {},
   "outputs": [],
   "source": []
  }
 ],
 "metadata": {
  "kernelspec": {
   "display_name": "Python 3 (ipykernel)",
   "language": "python",
   "name": "python3"
  },
  "language_info": {
   "codemirror_mode": {
    "name": "ipython",
    "version": 3
   },
   "file_extension": ".py",
   "mimetype": "text/x-python",
   "name": "python",
   "nbconvert_exporter": "python",
   "pygments_lexer": "ipython3",
   "version": "3.9.5"
  }
 },
 "nbformat": 4,
 "nbformat_minor": 5
}
