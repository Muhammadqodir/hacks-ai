{
 "cells": [
  {
   "cell_type": "code",
   "execution_count": 3,
   "id": "31e5d0bf",
   "metadata": {},
   "outputs": [],
   "source": [
    "import shapefile"
   ]
  },
  {
   "cell_type": "code",
   "execution_count": 5,
   "id": "60aa13a0",
   "metadata": {},
   "outputs": [],
   "source": [
    "shape = shapefile.Reader(\"private_fires.shp\")"
   ]
  },
  {
   "cell_type": "code",
   "execution_count": 7,
   "id": "0500465e",
   "metadata": {},
   "outputs": [
    {
     "data": {
      "text/plain": [
       "22848"
      ]
     },
     "execution_count": 7,
     "metadata": {},
     "output_type": "execute_result"
    }
   ],
   "source": [
    "len(shape.shapeRecords())"
   ]
  },
  {
   "cell_type": "code",
   "execution_count": 8,
   "id": "d60728f8",
   "metadata": {},
   "outputs": [],
   "source": [
    "feature = shape.shapeRecords()[0]\n",
    "first = feature.shape.__geo_interface__  "
   ]
  },
  {
   "cell_type": "code",
   "execution_count": 9,
   "id": "80fc488a",
   "metadata": {},
   "outputs": [
    {
     "data": {
      "text/plain": [
       "{'type': 'Polygon',\n",
       " 'coordinates': [[(37.95670402, 45.32997253),\n",
       "   (37.94090926, 45.33294417),\n",
       "   (37.94459641, 45.34271787),\n",
       "   (37.96039783, 45.33975289),\n",
       "   (37.95670402, 45.32997253)]]}"
      ]
     },
     "execution_count": 9,
     "metadata": {},
     "output_type": "execute_result"
    }
   ],
   "source": [
    "first"
   ]
  }
 ],
 "metadata": {
  "kernelspec": {
   "display_name": "Python 3 (ipykernel)",
   "language": "python",
   "name": "python3"
  },
  "language_info": {
   "codemirror_mode": {
    "name": "ipython",
    "version": 3
   },
   "file_extension": ".py",
   "mimetype": "text/x-python",
   "name": "python",
   "nbconvert_exporter": "python",
   "pygments_lexer": "ipython3",
   "version": "3.9.5"
  }
 },
 "nbformat": 4,
 "nbformat_minor": 5
}
